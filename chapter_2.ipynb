{
 "cells": [
  {
   "cell_type": "markdown",
   "metadata": {},
   "source": [
    "# Computational statistics\n",
    "\n",
    "## Distributions\n",
    "\n",
    "* A distribution is a set of values and corresponding probabilities\n",
    "* The possible rolls on a die have a distribution across the values 1-6 with uniform probabilities of 1/6.\n",
    "* Frequencies that words occur in a text is another exmaple\n",
    "* We can map each value to it's probability, which we can call a probability mass function."
   ]
  },
  {
   "cell_type": "code",
   "execution_count": 1,
   "metadata": {},
   "outputs": [],
   "source": [
    "from thinkbayes import Pmf"
   ]
  },
  {
   "cell_type": "code",
   "execution_count": 2,
   "metadata": {},
   "outputs": [],
   "source": [
    "pmf = Pmf()\n",
    "for x in list(range(1,7)):\n",
    "    pmf.Set(x, 1/6)"
   ]
  },
  {
   "cell_type": "code",
   "execution_count": 6,
   "metadata": {},
   "outputs": [
    {
     "name": "stdout",
     "output_type": "stream",
     "text": [
      "0.18181818181818182\n"
     ]
    }
   ],
   "source": [
    "word_list = [\"this\", \"is\", \"a\", \"word\", \"list\", \"which\", \"is\", \"a\", \"list\", \"of\", \"words\"]\n",
    "pmf = Pmf()\n",
    "for word in word_list:\n",
    "    pmf.Incr(word, 1)\n",
    "    \n",
    "pmf.Normalize()\n",
    "print(pmf.Prob(\"list\"))"
   ]
  },
  {
   "cell_type": "markdown",
   "metadata": {},
   "source": [
    "In the first example, all the values are set. In the second example, the \"probability\" associated with each instance of a word is incremented. To make the values true probabilities we normalise so that they all add up to 1."
   ]
  },
  {
   "cell_type": "markdown",
   "metadata": {},
   "source": [
    "## The cookie problem\n",
    "\n",
    "We can now solve the cookie problem using the Pmf function."
   ]
  },
  {
   "cell_type": "code",
   "execution_count": 8,
   "metadata": {},
   "outputs": [
    {
     "name": "stdout",
     "output_type": "stream",
     "text": [
      "0.6000000000000001\n"
     ]
    }
   ],
   "source": [
    "pmf = Pmf()\n",
    "pmf.Set('Bowl 1', 0.5)\n",
    "pmf.Set('Bowl 2', 0.5)\n",
    "\n",
    "# This give us the prior distribution\n",
    "\n",
    "pmf.Mult('Bowl 1', 0.75)\n",
    "pmf.Mult('Bowl 2', 0.5)\n",
    "\n",
    "# We then update distribution using the new data (a vanilla cookie was selected), probability of this for bowl 1 is 75% and bowl 2 is 50%\n",
    "\n",
    "pmf.Normalize()\n",
    "\n",
    "# We normalise as we've multiplied our priors by the likelihoods\n",
    "\n",
    "print(pmf.Prob('Bowl 1'))\n",
    "\n",
    "# And print our result"
   ]
  },
  {
   "cell_type": "markdown",
   "metadata": {},
   "source": [
    "## The Bayesian framework\n",
    "\n",
    "We can rewrite the code to generlise it."
   ]
  },
  {
   "cell_type": "code",
   "execution_count": 17,
   "metadata": {},
   "outputs": [
    {
     "name": "stdout",
     "output_type": "stream",
     "text": [
      "Bowl 1 0.6000000000000001\n",
      "Bowl 2 0.4\n",
      "Bowl 1 0.6923076923076923\n",
      "Bowl 2 0.30769230769230765\n",
      "Bowl 1 0.5294117647058825\n",
      "Bowl 2 0.4705882352941177\n",
      "Bowl 1 0.627906976744186\n",
      "Bowl 2 0.37209302325581395\n"
     ]
    }
   ],
   "source": [
    "class Cookie(Pmf):\n",
    "    def __init__(self, hypos, mixes):\n",
    "        \n",
    "        self.mixes = mixes\n",
    "        \n",
    "        Pmf.__init__(self)\n",
    "        for hypo in hypos:\n",
    "            self.Set(hypo,1)\n",
    "        self.Normalize()\n",
    "        \n",
    "    def Update(self, data):\n",
    "        for hypo in self.Values():\n",
    "            like = self.Likelihood(data, hypo)\n",
    "            self.Mult(hypo, like)\n",
    "        self.Normalize()\n",
    "        \n",
    "    \n",
    "    def Likelihood(self, data, hypo):\n",
    "        mix = self.mixes[hypo]\n",
    "        like = mix[data]\n",
    "        return like\n",
    "\n",
    "hypos = ['Bowl 1', 'Bowl 2']\n",
    "mixes = {\n",
    "        'Bowl 1':dict(vanilla=0.75, chocolate=0.25),\n",
    "        'Bowl 2':dict(vanilla=0.5, chocolate=0.5),\n",
    "    }\n",
    "pmf = Cookie(hypos, mixes)\n",
    "pmf.Update('vanilla')\n",
    "for hypo, prob in pmf.Items():\n",
    "    print(hypo, prob)\n",
    "    \n",
    "dataset = ['vanilla', 'chocolate', 'vanilla']\n",
    "for data in dataset:\n",
    "    pmf.Update(data)\n",
    "    \n",
    "    for hypo, prob in pmf.Items():\n",
    "        print(hypo, prob)\n",
    "    \n"
   ]
  },
  {
   "cell_type": "markdown",
   "metadata": {},
   "source": [
    "## Monty Hall problem\n",
    "\n",
    "We can also solve the monty hall problem using the Pmf class"
   ]
  },
  {
   "cell_type": "code",
   "execution_count": 19,
   "metadata": {},
   "outputs": [
    {
     "name": "stdout",
     "output_type": "stream",
     "text": [
      "A 0.3333333333333333\n",
      "B 0.0\n",
      "C 0.6666666666666666\n"
     ]
    }
   ],
   "source": [
    "class Monty(Pmf):\n",
    "    \n",
    "    def __init__(self, hypos):\n",
    "        \n",
    "        Pmf.__init__(self)\n",
    "        for hypo in hypos:\n",
    "            self.Set(hypo, 1)\n",
    "        self.Normalize()\n",
    "        \n",
    "    def Update(self, data):\n",
    "        for hypo in self.Values():\n",
    "            like = self.Likelihood(data, hypo)\n",
    "            self.Mult(hypo, like)\n",
    "        self.Normalize()\n",
    "        \n",
    "    ## So far exactly the same as Cookie class\n",
    "    \n",
    "    def Likelihood(self, data, hypo):\n",
    "        if hypo == data:\n",
    "            return 0\n",
    "        elif hypo == 'A':\n",
    "            return 0.5\n",
    "        else:\n",
    "            return 1\n",
    "        \n",
    "    ## Likelihood based on the problem setting\n",
    "    \n",
    "hypos = 'ABC'\n",
    "pmf = Monty(hypos)\n",
    "\n",
    "data = 'B'\n",
    "pmf.Update(data)\n",
    "\n",
    "for hypo, prob in psuimf.Items():\n",
    "    print(hypo, prob)\n",
    "    \n",
    "    "
   ]
  },
  {
   "cell_type": "markdown",
   "metadata": {},
   "source": [
    "We can capture the overlapping aspects of the framework that we defined in these two classes as a Suite, which is a Pmf with and __init__, Update and Print function.\n",
    "\n",
    "This simplifies our code a lot."
   ]
  },
  {
   "cell_type": "code",
   "execution_count": 21,
   "metadata": {},
   "outputs": [
    {
     "name": "stdout",
     "output_type": "stream",
     "text": [
      "A 0.3333333333333333\n",
      "B 0.0\n",
      "C 0.6666666666666666\n"
     ]
    }
   ],
   "source": [
    "from thinkbayes import Suite\n",
    "\n",
    "class Monty(Suite):\n",
    "    \n",
    "    def Likelihood(self, data, hypo):\n",
    "        if hypo == data:\n",
    "            return 0\n",
    "        elif hypo == 'A':\n",
    "            return 0.5\n",
    "        else:\n",
    "            return 1\n",
    "        \n",
    "suite = Monty(\"ABC\")\n",
    "suite.Update(\"B\")\n",
    "suite.Print()"
   ]
  },
  {
   "cell_type": "markdown",
   "metadata": {},
   "source": [
    "We can use the Suite class to solve the m&m problem."
   ]
  },
  {
   "cell_type": "code",
   "execution_count": 31,
   "metadata": {},
   "outputs": [
    {
     "name": "stdout",
     "output_type": "stream",
     "text": [
      "A 0.7407407407407407\n",
      "B 0.2592592592592592\n"
     ]
    }
   ],
   "source": [
    "class M_and_M(Suite):\n",
    "    \n",
    "    mix94 = dict(brown=30, \n",
    "             yellow=20, \n",
    "             red=20,\n",
    "             green=10,\n",
    "             orange=10,\n",
    "             tan=10)\n",
    "\n",
    "    mix96 = dict(blue=24,\n",
    "             brown=13, \n",
    "             yellow=14, \n",
    "             red=13,\n",
    "             green=20,\n",
    "             orange=16)\n",
    "\n",
    "    hypoA = dict(bag1=mix94, bag2=mix96)\n",
    "    hypoB = dict(bag1=mix96, bag2=mix94)\n",
    "\n",
    "    hypotheses = dict(A=hypoA, B=hypoB) \n",
    "    \n",
    "    def Likelihood(self, data, hypo):\n",
    "        bag, color = data\n",
    "        mix = self.hypotheses[hypo][bag]\n",
    "        like = mix[color]\n",
    "        return like\n",
    "    \n",
    "suite = M_and_M('AB')\n",
    "suite.Update(('bag1', 'yellow'))\n",
    "suite.Update(('bag2', 'green'))\n",
    "suite.Print()"
   ]
  },
  {
   "cell_type": "code",
   "execution_count": 33,
   "metadata": {},
   "outputs": [
    {
     "name": "stdout",
     "output_type": "stream",
     "text": [
      "A 0.7407407407407407\n",
      "B 0.2592592592592592\n"
     ]
    }
   ],
   "source": [
    "## We can also overwrite __init__ to read in the hypotheses\n",
    "\n",
    "class M_and_M(Suite):\n",
    "    \n",
    "    def __init__(self, hypos, hypotheses):\n",
    "        \n",
    "        self.hypotheses = hypotheses\n",
    "        \n",
    "        Pmf.__init__(self)\n",
    "        for hypo in hypos:\n",
    "            self.Set(hypo, 1)\n",
    "        self.Normalize()\n",
    "    \n",
    "    def Likelihood(self, data, hypo):\n",
    "        bag, color = data\n",
    "        mix = self.hypotheses[hypo][bag]\n",
    "        like = mix[color]\n",
    "        return like\n",
    "    \n",
    "mix94 = dict(brown=30, \n",
    "             yellow=20, \n",
    "             red=20,\n",
    "             green=10,\n",
    "             orange=10,\n",
    "             tan=10)\n",
    "\n",
    "mix96 = dict(blue=24,\n",
    "         brown=13, \n",
    "         yellow=14, \n",
    "         red=13,\n",
    "         green=20,\n",
    "         orange=16)\n",
    "\n",
    "hypoA = dict(bag1=mix94, bag2=mix96)\n",
    "hypoB = dict(bag1=mix96, bag2=mix94)\n",
    "\n",
    "hypotheses = dict(A=hypoA, B=hypoB) \n",
    "    \n",
    "suite = M_and_M('AB', hypotheses)\n",
    "suite.Update(('bag1', 'yellow'))\n",
    "suite.Update(('bag2', 'green'))\n",
    "suite.Print()"
   ]
  },
  {
   "cell_type": "code",
   "execution_count": 40,
   "metadata": {},
   "outputs": [
    {
     "name": "stdout",
     "output_type": "stream",
     "text": [
      "A 0.7407407407407407\n",
      "B 0.2592592592592592\n"
     ]
    }
   ],
   "source": [
    "## Or inheriting the Base init and amending \n",
    "\n",
    "class M_and_M(Suite):\n",
    "    \n",
    "    def __init__(self, hypos, hypotheses):\n",
    "        super(Suite, self).__init__(hypos)\n",
    "        # or more generally super(self.__class__, self).__init__(hypos)\n",
    "        self.hypotheses = hypotheses\n",
    "    \n",
    "    def Likelihood(self, data, hypo):\n",
    "        bag, color = data\n",
    "        mix = self.hypotheses[hypo][bag]\n",
    "        like = mix[color]\n",
    "        return like\n",
    "    \n",
    "mix94 = dict(brown=30, \n",
    "             yellow=20, \n",
    "             red=20,\n",
    "             green=10,\n",
    "             orange=10,\n",
    "             tan=10)\n",
    "\n",
    "mix96 = dict(blue=24,\n",
    "         brown=13, \n",
    "         yellow=14, \n",
    "         red=13,\n",
    "         green=20,\n",
    "         orange=16)\n",
    "\n",
    "hypoA = dict(bag1=mix94, bag2=mix96)\n",
    "hypoB = dict(bag1=mix96, bag2=mix94)\n",
    "\n",
    "hypotheses = dict(A=hypoA, B=hypoB) \n",
    "    \n",
    "suite = M_and_M('AB', hypotheses)\n",
    "suite.Update(('bag1', 'yellow'))\n",
    "suite.Update(('bag2', 'green'))\n",
    "suite.Print()"
   ]
  },
  {
   "cell_type": "markdown",
   "metadata": {},
   "source": [
    "Suite is an **abstract type** which means it ddefines the interface the class is supposed to have but doesn't provide a complete implementation (Likelihood is not implemented).\n",
    "\n",
    "A **concrete type** is a class that extends an abstract parent class and provides an implementation of the missing methods, such as Monty extending Suite by inheriting Update and providing Likelihood.\n",
    "\n",
    "This is an example of the *template method design pattern.*\n",
    "\n",
    "Reading on super: \n",
    "https://fuhm.net/super-harmful/\n",
    "https://rhettinger.wordpress.com/2011/05/26/super-considered-super/\n",
    "https://stackoverflow.com/questions/576169/understanding-python-super-with-init-methods\n",
    "https://stackoverflow.com/questions/8972866/correct-way-to-use-super-argument-passing"
   ]
  },
  {
   "cell_type": "code",
   "execution_count": null,
   "metadata": {},
   "outputs": [],
   "source": []
  }
 ],
 "metadata": {
  "kernelspec": {
   "display_name": "Python 3",
   "language": "python",
   "name": "python3"
  },
  "language_info": {
   "codemirror_mode": {
    "name": "ipython",
    "version": 3
   },
   "file_extension": ".py",
   "mimetype": "text/x-python",
   "name": "python",
   "nbconvert_exporter": "python",
   "pygments_lexer": "ipython3",
   "version": "3.7.2"
  }
 },
 "nbformat": 4,
 "nbformat_minor": 2
}
