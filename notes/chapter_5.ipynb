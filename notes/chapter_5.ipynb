{
 "cells": [
  {
   "cell_type": "markdown",
   "metadata": {},
   "source": [
    "## Odds and Addends\n",
    "\n",
    "We can also represent probabilities of an event happening as the odds of it happening vs it not happening.\n",
    "\n",
    "If a team had a 75% chance of winning, the odds of them winning are 3:1.\n",
    "\n",
    "For low probabilities such as 10%, you can give the odds against: 9:1"
   ]
  },
  {
   "cell_type": "code",
   "execution_count": null,
   "metadata": {},
   "outputs": [],
   "source": [
    "## Computing odds given a probability:\n",
    "\n",
    "def Odds(p):\n",
    "    return p / (1-p)\n",
    "\n",
    "# Computing probability given decimal form of odds\n",
    "\n",
    "def Probability(o):\n",
    "    return o / (o+1)\n",
    "\n",
    "# Computing probability given values for/against\n",
    "\n",
    "def Probability2(yes, no):\n",
    "    return yes / (yes + no)"
   ]
  },
  {
   "cell_type": "markdown",
   "metadata": {},
   "source": [
    "We can write the odds form of Bayes theorem.\n",
    "\n",
    "Start with Bayes in probability form:\n",
    "\n",
    "P(H|D) = P(H)P(D|H) / P(D)\n",
    "\n",
    "\n",
    "For two hypotheses we can write as ratio of posterior probabilities:\n",
    "\n",
    "P(A/D) / P(B/D) = P(A) P(D|A) / P(B) P(D|B)\n",
    "\n",
    "If A and B are mutually exclusive, we can write: P(B) = 1 - P(A), so the ratio of the priors and posteriors can be rewritten as odds:\n",
    "\n",
    "o(A|D) = o(A) P(D|A)/P(D|B)\n",
    "\n",
    "So, the posterior odds are the prior odds times the likelihood ratio.\n",
    "\n",
    "We can also write this as:\n",
    "\n",
    "o(A|D)/o(A) = P(D|A)/P(D|B)\n",
    "\n",
    "Where the term on the right is the likelihood ratio or the Bayes Factor.\n",
    "\n",
    "BF > 1 suggests data were more likely under A than B, BF < 1 suggests opposite.\n",
    "\n",
    "Problem: Two people have left blood at scene of crime. The suspect, Oliver, has type O blood, blood samples are O and AB. AB is rare (1%) and O is common (60%). Do these data suggest the suspect was present at the scene of the crime?\n",
    "\n",
    "If he was, then he accounts for O sample. So probability of the data is probability that random member of population has type AB blood, 1%.\n",
    "\n",
    "If he wasn't, then there are two samples to account for. If we sample two random people from population, what is chance of getting one O and one AB? Either O then AB or AB then O, so probability is 2 * (0.6)(0.01) = 1.2%\n",
    "\n",
    "Likelihood of data slightly higher for Oliver not being present, so blood is evidence against him as a suspect."
   ]
  },
  {
   "cell_type": "markdown",
   "metadata": {},
   "source": [
    "## Addends\n",
    "\n",
    "We've mainly been using updates in our analysis, taking the prior dist and a set of data to produce posterior. Other operations useful for solving problems, such as scaling, addition, min, max.\n",
    "\n",
    "Consider rolling 3 dice and taking the sum. How can we get the distribution of this sum?\n",
    "\n",
    "Two main ways:\n",
    "* Simulation: With a pmf for one dice, can draw multiple times and sum then take the distribution of the simulated sums.\n",
    "* Enumeration: Can combine pmfs to enumerate possible combinations and compute the distribution of sums.\n",
    "\n",
    "The drawback with simulation is the result obtained is only approx correct, more accurate with larger n."
   ]
  },
  {
   "cell_type": "code",
   "execution_count": 37,
   "metadata": {},
   "outputs": [
    {
     "data": {
      "image/png": "[encoded data removed]",
      "text/plain": [
       "<Figure size 432x288 with 1 Axes>"
      ]
     },
     "metadata": {
      "needs_background": "light"
     },
     "output_type": "display_data"
    }
   ],
   "source": [
    "import thinkbayes\n",
    "import numpy as np\n",
    "import matplotlib.pyplot as plt\n",
    "\n",
    "class Die(thinkbayes.Pmf):\n",
    "    def __init__(self, sides):\n",
    "        thinkbayes.Pmf.__init__(self)\n",
    "        for x in range(1, sides+1):\n",
    "            self.Set(x, 1)\n",
    "        self.Normalize()\n",
    "        \n",
    "d6 = Die(6)\n",
    "\n",
    "## Simulating\n",
    "\n",
    "dice = [d6] * 3\n",
    "three = thinkbayes.SampleSum(dice, 1000)\n",
    "\n",
    "def RandomSum(dists):\n",
    "    total = sum(dist.Random() for dist in dists)\n",
    "    return total\n",
    "\n",
    "def SampleSum(dists, n):\n",
    "    pmf = MakePmfFromList(RandomSum(dists) for i in range(n))\n",
    "    return pmf\n",
    "\n",
    "## Enumerating\n",
    "\n",
    "def __add__(self, other):\n",
    "    pmf = Pmf()\n",
    "    for v1, p1 in self.Items():\n",
    "        for v2, p2 in other.Items():\n",
    "            pmf.Incr(v1+v2, p1*p2)\n",
    "    return pmf\n",
    "\n",
    "## method to enumerate all pairs of values and compute sum and probability of each pair\n",
    "## when + is used, this method is invoked\n",
    "## Note: assumes selections from each Pmf are independent\n",
    "\n",
    "three_exact = d6 + d6 + d6\n",
    "\n",
    "plt.plot(np.array([(x, three.Prob(x)) for x in range(2,19)])[:,0], np.array([(x, three.Prob(x)) for x in range(2,19)])[:,1], label='sample')\n",
    "plt.plot(np.array([(x, three_exact.Prob(x)) for x in range(2,19)])[:,0], np.array([(x, three_exact.Prob(x)) for x in range(2,19)])[:,1], label='exact')\n",
    "plt.legend()\n",
    "plt.show()"
   ]
  },
  {
   "cell_type": "markdown",
   "metadata": {},
   "source": [
    "## Maxima\n",
    "\n",
    "What if we want to know the distribution of a maximum attribute? We can either use simulation or enumeration again, or instead use exponentiation where we convert a pmf to a cdf and then use an efficient algorithm to find the distribution of the maximum.\n",
    "\n"
   ]
  },
  {
   "cell_type": "code",
   "execution_count": null,
   "metadata": {},
   "outputs": [],
   "source": [
    "def RandomMax(dists):\n",
    "    total = max(dist.Random() for dist in dists)\n",
    "    return total\n",
    "\n",
    "def SampleMax(dists, n):\n",
    "    pmf = MakePmfFromList(RandomMax(dists) for i in range(n))\n",
    "    \n",
    "def PmfMax(pmf1, pmf2):\n",
    "    res = thinkbayes.Pmf()\n",
    "    for v1, p1 in pmf1.Items():\n",
    "        for v2, p2 in pmf2.Items():\n",
    "            res.Incr(max(v1, v2), p1*p2)\n",
    "    return res\n",
    "\n"
   ]
  },
  {
   "cell_type": "markdown",
   "metadata": {},
   "source": [
    "Simulation and enumeration are both inefficient, so we can try converting Pmf to Cdf.\n",
    "\n",
    "CDF(x) = p(X <= x)\n",
    "\n",
    "X is a random variable that represents a value randomly chosen from the distribution. CDF(5) is probability that a value from distribution is less than or equal to 5.\n",
    "\n",
    "If we draw X from CDF1 and Y from CDF2, then compute Z=max(X,Y), what is chance Z <= 5? This happens when both X and Y are <= 5.\n",
    "\n",
    "If selections X and Y are independent then:\n",
    "\n",
    "CDF3(5) = CDF1(5)CDF2(5)\n",
    "\n",
    "CDF3 is the distribution of Z. We can generalise for any value (not just 5) using z:\n",
    "\n",
    "CDF3(z) = CDF1(z)CDF2(z)\n",
    "\n",
    "If we are drawing k values from the same distribution we can simplify to:\n",
    "\n",
    "CDFk(z) = CDF1(z)^k\n",
    "\n",
    "Therefore, to find the distribution of the max of k values, we enumerate the probabilities in the Cdf and raise them to the power of k.\n",
    "\n",
    "Runtime is proportional to number of items in the Cdf, m, rather than m^2*k as in the case of the previous approach.\n",
    "\n",
    "Doing this from a Pmf requires a conversion to Cdf, so the runtime is mlogm.\n",
    "\n",
    "\n",
    "\n"
   ]
  },
  {
   "cell_type": "code",
   "execution_count": 41,
   "metadata": {},
   "outputs": [
    {
     "data": {
      "image/png": "[encoded data removed]",
      "text/plain": [
       "<Figure size 432x288 with 1 Axes>"
      ]
     },
     "metadata": {
      "needs_background": "light"
     },
     "output_type": "display_data"
    }
   ],
   "source": [
    "# class Cdf\n",
    "\n",
    "def Max(self, k):\n",
    "    cdf = self.Copy()\n",
    "    cdf.ps = [p**k for p in cdf.ps]\n",
    "    return cdf\n",
    "\n",
    "best_attr_cdf = three_exact.Max(6)\n",
    "best_attr_pmf = best_attr_cdf.MakePmf()\n",
    "\n",
    "plt.plot(np.array([(x, best_attr_pmf.Prob(x)) for x in range(2,19)])[:,0], np.array([(x, best_attr_pmf.Prob(x)) for x in range(2,19)])[:,1])\n",
    "plt.show()"
   ]
  },
  {
   "cell_type": "markdown",
   "metadata": {},
   "source": [
    "## Mixtures\n",
    "\n",
    "Imagine we randomly select a die from a box and roll it, what would the distribution of the outcome be?\n",
    "\n",
    "5 x 4-sided\n",
    "4 x 6-sided\n",
    "3 x 8-sided\n",
    "2 x 12-sided\n",
    "1 x 20-sided\n",
    "\n",
    "If we knew the die, it would be easy (n sided die gives a uniform dist from 1 to n).\n",
    "\n",
    "Without knowing, the distribution is a mixture of uniform distributions with different bounds.\n",
    "\n",
    "We could simulate or we could get an exact solution by iterating through the Pmfs.\n",
    "\n",
    "This can be done for a simple 2 dice example or the full problem.\n",
    "\n",
    "For the 2 dice example, the first loop enumerates the dice and the second loop enumerates the outcomes and their probabilities. \n",
    "\n",
    "Pmf.Incr() adds up the contributions from the two distributions.\n",
    "\n",
    "For the full problem, we don't assume the dice are equally likely so we weight the outcomes."
   ]
  },
  {
   "cell_type": "code",
   "execution_count": 43,
   "metadata": {},
   "outputs": [
    {
     "data": {
      "image/png": "[encoded data removed]",
      "text/plain": [
       "<Figure size 432x288 with 1 Axes>"
      ]
     },
     "metadata": {
      "needs_background": "light"
     },
     "output_type": "display_data"
    }
   ],
   "source": [
    "d6 = Die(6)\n",
    "d8 = Die(8)\n",
    "\n",
    "mix = thinkbayes.Pmf()\n",
    "for die in [d6, d8]:\n",
    "    for outcome, prob in die.Items():\n",
    "        mix.Incr(outcome, prob)\n",
    "mix.Normalize()\n",
    "\n",
    "plt.plot(np.array([(x, mix.Prob(x)) for x in range(2,19)])[:,0], np.array([(x, mix.Prob(x)) for x in range(2,19)])[:,1])\n",
    "plt.show()"
   ]
  },
  {
   "cell_type": "code",
   "execution_count": 47,
   "metadata": {},
   "outputs": [
    {
     "data": {
      "image/png": "[encoded data removed]",
      "text/plain": [
       "<Figure size 432x288 with 1 Axes>"
      ]
     },
     "metadata": {
      "needs_background": "light"
     },
     "output_type": "display_data"
    }
   ],
   "source": [
    "pmf_dice = thinkbayes.Pmf()\n",
    "pmf_dice.Set(Die(4), 5)\n",
    "pmf_dice.Set(Die(6), 4)\n",
    "pmf_dice.Set(Die(8), 3)\n",
    "pmf_dice.Set(Die(10), 2)\n",
    "pmf_dice.Set(Die(12), 1)\n",
    "\n",
    "mix = thinkbayes.Pmf()\n",
    "for die, weight in pmf_dice.Items():\n",
    "    for outcome, prob in die.Items():\n",
    "        mix.Incr(outcome, weight*prob)\n",
    "mix.Normalize()\n",
    "\n",
    "plt.plot(np.array([(x, mix.Prob(x)) for x in range(0,25)])[:,0], np.array([(x, mix.Prob(x)) for x in range(0,25)])[:,1])\n",
    "plt.show()"
   ]
  },
  {
   "cell_type": "code",
   "execution_count": null,
   "metadata": {},
   "outputs": [],
   "source": []
  }
 ],
 "metadata": {
  "kernelspec": {
   "display_name": "Python 3",
   "language": "python",
   "name": "python3"
  },
  "language_info": {
   "codemirror_mode": {
    "name": "ipython",
    "version": 3
   },
   "file_extension": ".py",
   "mimetype": "text/x-python",
   "name": "python",
   "nbconvert_exporter": "python",
   "pygments_lexer": "ipython3",
   "version": "3.7.2"
  }
 },
 "nbformat": 4,
 "nbformat_minor": 2
}
