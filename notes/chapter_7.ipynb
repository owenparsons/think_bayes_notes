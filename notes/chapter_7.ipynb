{
 "cells": [
  {
   "cell_type": "markdown",
   "metadata": {},
   "source": [
    "## Prediction\n",
    "\n",
    "Suppose a hockey team is playing in a best-of-seven championship. They lost the first 2 games 0-1 and 2-3 then won the next two games 8-1 and 4-0. What is the probability that they win the next game and what is their probability of winning the championship?\n",
    "\n",
    "We make several assumptions:\n",
    "\n",
    "* Goal scoring is approx a Poisson process, equally likely for a goal to be scored at any point during a game\n",
    "* Against a given opponent, team has a long term average goals per game (donated by lambda)\n",
    "\n",
    "Strategy:\n",
    "1. Use previous statistics from old games to choose prior for lambda\n",
    "2. Use score from first 4 games to estimate lambda for the 2 teams\n",
    "3. Use the posterior distributions of lambda to compute distribution of goals for each team, distribution of goal differential and probability that each team wins the next game.\n",
    "4. Compute probability that each team wins the championship.\n",
    "\n",
    "Using the data given, our prior is a gaussian with mean 2.8 and std dev 0.3.\n",
    "\n",
    "We can approximate with a discrete Pmf for now.\n",
    "\n"
   ]
  },
  {
   "cell_type": "code",
   "execution_count": 26,
   "metadata": {},
   "outputs": [],
   "source": [
    "import numpy as np\n",
    "import scipy\n",
    "import thinkbayes\n",
    "import math\n",
    "\n",
    "def MakeGaussianPmf(mu, sigma, num_sigmas, n=101):\n",
    "    pmf = thinkbayes.Pmf()\n",
    "    low = mu - num_sigmas*sigma\n",
    "    high = mu + num_sigmas*sigma\n",
    "    \n",
    "    ## num sigmas is the number of sigmas to span above and below the mean\n",
    "    \n",
    "    for x in np.linspace(low, high, n):\n",
    "        p = scipy.stats.norm.pdf(mu, sigma, x)\n",
    "        pmf.Set(x, p)\n",
    "        \n",
    "    pmf.Normalize()\n",
    "    return pmf\n",
    "\n",
    "gpmf = MakeGaussianPmf(2.8, 0.3, 4)"
   ]
  },
  {
   "cell_type": "code",
   "execution_count": 48,
   "metadata": {},
   "outputs": [
    {
     "data": {
      "text/plain": [
       "0.0005725202359080636"
      ]
     },
     "execution_count": 48,
     "metadata": {},
     "output_type": "execute_result"
    }
   ],
   "source": [
    "\n",
    "def EvalPoissonPmf(lam, k):\n",
    "    return (lam)**k * math.exp(-lam) / math.factorial(k)\n",
    "\n",
    "def EvalExponentialPdf(lam, x):\n",
    "    return lam * math.exp(-lam * x)\n",
    "\n",
    "class Hockey(thinkbayes.Suite):\n",
    "    \n",
    "    def __init__(self, name=''):\n",
    "        pmf = thinkbayes.MakeGaussianPmf(2.7, 0.3, 4)\n",
    "        thinkbayes.Suite.__init__(self, pmf)\n",
    "        self.name = name\n",
    "        \n",
    "    def Likelihood(self, data, hypo):\n",
    "        lam = hypo\n",
    "        k = data\n",
    "        like = EvalPoissonPmf(lam, k)\n",
    "        return like\n",
    "    \n",
    "    \n",
    "suite1 = Hockey('bruins')\n",
    "suite1.UpdateSet([0, 2, 8, 4])\n",
    "\n",
    "suite2 = Hockey('canucks')\n",
    "suite2.UpdateSet([1, 3, 1, 0])\n",
    "\n",
    "\n",
    "\n"
   ]
  },
  {
   "cell_type": "code",
   "execution_count": 53,
   "metadata": {},
   "outputs": [
    {
     "data": {
      "image/png": "[encoded data removed]",
      "text/plain": [
       "<Figure size 432x288 with 1 Axes>"
      ]
     },
     "metadata": {
      "needs_background": "light"
     },
     "output_type": "display_data"
    }
   ],
   "source": [
    "import matplotlib.pyplot as plt\n",
    "%matplotlib inline\n",
    "\n",
    "\n",
    "\n",
    "suites = [suite1, suite2]\n",
    "\n",
    "for suite in suites:\n",
    "    values = []\n",
    "    probs = []\n",
    "    for value, prob in suite.Items():\n",
    "        values.append(value)\n",
    "        probs.append(prob)\n",
    "\n",
    "    plt.plot(values, probs, label=suite.name)\n",
    "plt.legend()\n",
    "plt.show()"
   ]
  },
  {
   "cell_type": "markdown",
   "metadata": {},
   "source": [
    "## Poisson processess\n",
    "\n",
    "A **process** is a stochastic model of a physical system (stochastic means it's not deterministic, there're randomness in it).\n",
    "\n",
    "A Bernoulli process is a model of a sequence of events (trials) where there are 2 possible outcomes, it's a good model for a series of coin tosses or series of shots on goal.\n",
    "\n",
    "A Poisson process is a continuous version of a Bournoulli process. Events can happen at any point in time with equal probability. Good model for goals scored in a hockey game (as an approximation).\n",
    "\n",
    "Makes the computation of distribution of goals per game more efficient. \n",
    "\n",
    "If we know our value of lamba, computation of the distribution of goals per game is very straightfoward (using the Poisson distribution).\n",
    "\n",
    "The likelihood of a team scoring *k* goals given a lambda value can be computed across different hypotheses (lambdas). We can update our posterior with the likelihood function, using the observed number of goals in previous games (data).\n",
    "\n",
    "However, if we have distributions for the probable values of lamba, then we need to get a mixture of Poisson distributions (of goals scored) for each possible lambda value.\n",
    "\n",
    "This mixture weights the different Poisson distributions based on the probabilities in the distribution of lambda.\n",
    "\n",
    "The probability of winning can be found by calculating the goal distributions for both teams and then taking the distribution for the goal differential. We can then work out how likely it is that one team has more goals than the other. We can also get the probability of it being a draw.\n",
    "\n",
    "If games are a draw, they go to sudden death. This is where the first team to score wins. We can then calculate the distribution for the amount of time require for each team to score and then get the distribution for team A scoring before team B.\n",
    "\n",
    "The probability of winning is the probability of team A winning outright plus the prob of a draw times the prob of winning sudden death.\n",
    "\n",
    "To see the prob of winning the series we add the prob of them winning the next two games or splitting the next two (win one, lose one) and winning the third.\n"
   ]
  },
  {
   "cell_type": "code",
   "execution_count": 70,
   "metadata": {},
   "outputs": [
    {
     "name": "stdout",
     "output_type": "stream",
     "text": [
      "0.45844446316038223 0.36692759551847764 0.1746279413211394\n",
      "0.5241042376724285\n",
      "0.5499677072228035\n",
      "0.5747020449130835\n"
     ]
    }
   ],
   "source": [
    "def MakeMixture(metapmf, name='mix'):\n",
    "    mix = Pmf(name=name)\n",
    "    for pmf, p1 in metapmf.Items():\n",
    "        for x, p2 in pmf.Items():\n",
    "            mix.Incr(x, p1 * p2)\n",
    "    return mix\n",
    "\n",
    "\n",
    "def MakePoissonPmf(lam, high):\n",
    "    pmf = Pmf()\n",
    "    for k in range(0, high+1):\n",
    "        p = EvalPoissonPmf(lam, k)\n",
    "        pmf.Set(k, p)\n",
    "    pmf.Normalize()\n",
    "    return pmf\n",
    "\n",
    "def MakeGoalPmf(suite):\n",
    "    metapmf = thinkbayes.Pmf()\n",
    "    \n",
    "    for lam, prob in suite.Items():\n",
    "        pmf = MakePoissonPmf(lam, 10)\n",
    "        metapmf.Set(pmf, prob)\n",
    "        \n",
    "    mix = MakeMixture(metapmf)\n",
    "    return mix\n",
    "\n",
    "goal_dist1 = MakeGoalPmf(suite1)\n",
    "goal_dist2 = MakeGoalPmf(suite2)\n",
    "diff = goal_dist1 - goal_dist2\n",
    "\n",
    "p_win = diff.ProbGreater(0)\n",
    "p_loss = diff.ProbLess(0)\n",
    "p_tie = diff.Prob(0)\n",
    "\n",
    "print(p_win, p_loss, p_tie)\n",
    "\n",
    "def MakeGoalTimePmf(suite):\n",
    "    metapmf = thinkbayes.Pmf()\n",
    "    \n",
    "    for lam, prob in suite.Items():\n",
    "        pmf = thinkbayes.MakeExponentialPmf(lam, high=2, n=2001)\n",
    "        metapmf.Set(pmf, prob)\n",
    "        \n",
    "    mix = thinkbayes.MakeMixture(metapmf)\n",
    "    return mix\n",
    "\n",
    "time_dist1 = MakeGoalTimePmf(suite1)\n",
    "time_dist2 = MakeGoalTimePmf(suite2)\n",
    "\n",
    "p_overtime = thinkbayes.PmfProbLess(time_dist1, time_dist2)\n",
    "\n",
    "print(p_overtime)\n",
    "\n",
    "p_win = diff.ProbGreater(0) + diff.Prob(0) * p_overtime\n",
    "print(p_win)\n",
    "\n",
    "p_series = p_win**2\n",
    "\n",
    "p_series += 2 * p_win * (1-p_win) * p_win\n",
    "print(p_series)"
   ]
  },
  {
   "cell_type": "markdown",
   "metadata": {},
   "source": [
    "Improving model:\n",
    "\n",
    "* Better prior, not averaging across all teams.\n",
    "* More data, use a greater number of match ups. Can weight more recent games higher.\n",
    "\n",
    "Note that changing the prior to use a higher-variance prior (based on data from regular season) changes the odds of team winning from 57% to 80%. Minimal data, so very sensitive to prior!\n"
   ]
  }
 ],
 "metadata": {
  "kernelspec": {
   "display_name": "Python 3",
   "language": "python",
   "name": "python3"
  },
  "language_info": {
   "codemirror_mode": {
    "name": "ipython",
    "version": 3
   },
   "file_extension": ".py",
   "mimetype": "text/x-python",
   "name": "python",
   "nbconvert_exporter": "python",
   "pygments_lexer": "ipython3",
   "version": "3.7.2"
  }
 },
 "nbformat": 4,
 "nbformat_minor": 2
}
