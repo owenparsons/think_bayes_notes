{
 "cells": [
  {
   "cell_type": "markdown",
   "metadata": {},
   "source": [
    "## The dice problem\n",
    "\n",
    "Problem: You have a box contain a 4-sided die, a 6-sided die, an 8-sided die, a 12-sided die and a 20-sided die\n",
    "\n",
    "After selecting a die at random, you roll it and get a 6. What is the probability that it was each of the possible dice?\n",
    "\n",
    "Good approach to start a problem like this:\n",
    "* Choose a representation for hypotheses\n",
    "* Choose a representation for the data\n",
    "* Write the likelihood function"
   ]
  },
  {
   "cell_type": "code",
   "execution_count": 4,
   "metadata": {},
   "outputs": [
    {
     "name": "stdout",
     "output_type": "stream",
     "text": [
      "4 0.0\n",
      "6 0.3921568627450981\n",
      "8 0.29411764705882354\n",
      "12 0.19607843137254904\n",
      "20 0.11764705882352944\n"
     ]
    }
   ],
   "source": [
    "from thinkbayes import Pmf, Suite\n",
    "import matplotlib.pyplot as plt\n",
    "\n",
    "class Dice(Suite):\n",
    "    # If data large than number of sides, hypothesis is impossible so set to 0\n",
    "    def Likelihood(self, data, hypo):\n",
    "        if hypo < data:\n",
    "            return 0\n",
    "        else:\n",
    "            return 1.0/hypo\n",
    "\n",
    "suite = Dice([4,6,8,12,20])\n",
    "suite.Update(6)\n",
    "suite.Print()"
   ]
  },
  {
   "cell_type": "code",
   "execution_count": 3,
   "metadata": {},
   "outputs": [
    {
     "name": "stdout",
     "output_type": "stream",
     "text": [
      "4 0.0\n",
      "6 0.0\n",
      "8 0.9432484536722124\n",
      "12 0.0552061280612909\n",
      "20 0.001545418266496554\n"
     ]
    }
   ],
   "source": [
    "for roll in [6,8,7,7,5,4]:\n",
    "    suite.Update(roll)\n",
    "    \n",
    "suite.Print()"
   ]
  },
  {
   "cell_type": "markdown",
   "metadata": {},
   "source": [
    "## The locomotive problem\n",
    "\n",
    "Problem: You know a company numbers it's trains 1...N. You see a train with the number 60 on it. Estimate N.\n",
    "\n",
    "We know that N >= 60\n",
    "\n",
    "Break problem into two steps:\n",
    "* What did we know about N before data? (prior)\n",
    "* For any given value of N, what is likelihood of seeing data - a train with 60 (likelihood)?\n",
    "\n",
    "We can guess prior is uniformly distrubuted between 1 and 1000 (at least one train, but not more than a 1000 and uniform probabilities across all values)\n",
    "\n"
   ]
  },
  {
   "cell_type": "code",
   "execution_count": 21,
   "metadata": {},
   "outputs": [
    {
     "data": {
      "image/png": "[encoded data removed]",
      "text/plain": [
       "<Figure size 432x288 with 1 Axes>"
      ]
     },
     "metadata": {
      "needs_background": "light"
     },
     "output_type": "display_data"
    },
    {
     "name": "stdout",
     "output_type": "stream",
     "text": [
      "60\n"
     ]
    }
   ],
   "source": [
    "hypos = range(1,1000)\n",
    "\n",
    "class Train(Suite):\n",
    "    # Same as dice\n",
    "    def Likelihood(self, data, hypo):\n",
    "        if hypo < data:\n",
    "            return 0\n",
    "        else:\n",
    "            return 1.0/hypo\n",
    "        \n",
    "suite = Train(hypos)\n",
    "suite.Update(60)\n",
    "\n",
    "values = []\n",
    "probs = []\n",
    "for val, prob in suite.Items():\n",
    "    values.append(val)\n",
    "    probs.append(prob)\n",
    "    \n",
    "plt.plot(values, probs)\n",
    "plt.show()\n",
    "\n",
    "print(values[probs.index(max(probs))])"
   ]
  },
  {
   "cell_type": "markdown",
   "metadata": {},
   "source": [
    "This is the best guess for a single one of guess where we want to maximise the chance of getting the exact value. But what if we want to minimise error over a number of guesses?\n",
    "\n",
    "We can compute the mean of the posterior distribution instead."
   ]
  },
  {
   "cell_type": "code",
   "execution_count": 24,
   "metadata": {},
   "outputs": [
    {
     "name": "stdout",
     "output_type": "stream",
     "text": [
      "333.1836235027341\n"
     ]
    }
   ],
   "source": [
    "class Train(Suite):\n",
    "    def Likelihood(self, data, hypo):\n",
    "        if hypo < data:\n",
    "            return 0\n",
    "        else:\n",
    "            return 1.0/hypo\n",
    "        \n",
    "    # Similar method is already implemented, redefining here just to display code\n",
    "        \n",
    "    def Mean(self):\n",
    "        total = 0\n",
    "        for hypo, prob in self.Items():\n",
    "            total += hypo * prob\n",
    "        return print(total)\n",
    "    \n",
    "suite = Train(hypos)\n",
    "suite.Update(60)\n",
    "suite.Mean()"
   ]
  },
  {
   "cell_type": "markdown",
   "metadata": {},
   "source": [
    "## What about the prior?\n",
    "\n",
    "We made a lot of assumptions above, especially about the prior.\n",
    "\n",
    "What if we look at uniform priors between 1 and 500 or 1 and 2000 instead?"
   ]
  },
  {
   "cell_type": "code",
   "execution_count": 25,
   "metadata": {},
   "outputs": [
    {
     "name": "stdout",
     "output_type": "stream",
     "text": [
      "206.8038772952583\n",
      "551.9730485662769\n"
     ]
    }
   ],
   "source": [
    "hypos = range(1,500)\n",
    "suite = Train(hypos)\n",
    "suite.Update(60)\n",
    "suite.Mean()\n",
    "\n",
    "hypos = range(1,2000)\n",
    "suite = Train(hypos)\n",
    "suite.Update(60)\n",
    "suite.Mean()"
   ]
  },
  {
   "cell_type": "markdown",
   "metadata": {},
   "source": [
    "This varies the value of the posterior mean considerably!\n",
    "\n",
    "Not a good situation, two ways to proceed:\n",
    "* Get more data\n",
    "* Get more background information (better prior)\n",
    "\n",
    "With more data, posteriors based on different priors tend to converge:"
   ]
  },
  {
   "cell_type": "code",
   "execution_count": 26,
   "metadata": {},
   "outputs": [
    {
     "name": "stdout",
     "output_type": "stream",
     "text": [
      "151.80348606277983\n",
      "164.29208953758194\n",
      "171.33451161537934\n"
     ]
    }
   ],
   "source": [
    "hypos = range(1,500)\n",
    "suite = Train(hypos)\n",
    "for data in [60, 30, 90]:\n",
    "    suite.Update(data)\n",
    "suite.Mean()\n",
    "\n",
    "hypos = range(1,1000)\n",
    "suite = Train(hypos)\n",
    "for data in [60, 30, 90]:\n",
    "    suite.Update(data)\n",
    "suite.Mean()\n",
    "\n",
    "hypos = range(1,2000)\n",
    "suite = Train(hypos)\n",
    "for data in [60, 30, 90]:\n",
    "    suite.Update(data)\n",
    "suite.Mean()"
   ]
  },
  {
   "cell_type": "markdown",
   "metadata": {},
   "source": [
    "## Alternative prior\n",
    "\n",
    "If we don't have access to more data, can try to collect more background information to improve prior.\n",
    "\n",
    "Maybe assumption that a train company owning only 1 train is as likely as one owning 1000 is incorrect?\n",
    "\n",
    "We could get information on distributions of train companies and their fleet sizes or can make some guesses on own knowledge of common distributions.\n",
    "\n",
    "Company sizes tend to follow power laws. If there are 1000 companies with <10 trains, may be 100 companies with 100, 10 with 1000 and 1 with 10,000.\n",
    "\n",
    "We can write this:\n",
    "\n",
    "$PMF(x) \\propto \\frac{1}{x}^{\\alpha}$\n",
    "\n",
    "PMF is probability mass function of x and alpha is parameter usually close to 1\n",
    "\n",
    "We can then construct a power law prior. This leads to smaller differences and the mean actually converges to a value around 134 with an arbitrarily large upper bound."
   ]
  },
  {
   "cell_type": "code",
   "execution_count": 64,
   "metadata": {},
   "outputs": [
    {
     "name": "stdout",
     "output_type": "stream",
     "text": [
      "130.69568746044155\n",
      "133.273365808993\n",
      "133.9972122107673\n"
     ]
    },
    {
     "data": {
      "image/png": "[encoded data removed]",
      "text/plain": [
       "<Figure size 432x288 with 1 Axes>"
      ]
     },
     "metadata": {
      "needs_background": "light"
     },
     "output_type": "display_data"
    }
   ],
   "source": [
    "class Train(Suite):\n",
    "    \n",
    "    def Likelihood(self, data, hypo):\n",
    "        if hypo < data:\n",
    "            return 0\n",
    "        else:\n",
    "            return 1.0/hypo\n",
    "        \n",
    "   \n",
    "    def Mean(self):\n",
    "        total = 0\n",
    "        for hypo, prob in self.Items():\n",
    "            total += hypo * prob\n",
    "        return print(total)\n",
    "    \n",
    "    \n",
    "    def AddPlot(self, label):\n",
    "        values = []\n",
    "        probs = []\n",
    "        for val, prob in self.Items():\n",
    "            values.append(val)\n",
    "            probs.append(prob)\n",
    "\n",
    "#         print(values[probs.index(max(probs))])\n",
    "        plt.plot(values, probs, label=label)\n",
    "\n",
    "\n",
    "class PowerTrain(Train):\n",
    "    def __init__(self, hypos, alpha=1.0):\n",
    "#         super(Suite, self).__init__(hypos)\n",
    "        Pmf.__init__(self)\n",
    "        for hypo in hypos:\n",
    "            self.Set(hypo, hypo**(-alpha))\n",
    "        self.Normalize()\n",
    "     \n",
    "        \n",
    "hypos = range(1,500)\n",
    "suite = PowerTrain(hypos)\n",
    "for data in [60, 30, 90]:\n",
    "    suite.Update(data)\n",
    "suite.Mean()\n",
    "\n",
    "\n",
    "hypos = range(1,1000)\n",
    "suite = PowerTrain(hypos)\n",
    "for data in [60, 30, 90]:\n",
    "    suite.Update(data)\n",
    "suite.Mean()\n",
    "\n",
    "\n",
    "hypos = range(1,2000)\n",
    "suite = PowerTrain(hypos)\n",
    "for data in [60, 30, 90]:\n",
    "    suite.Update(data)\n",
    "suite.Mean()\n",
    "\n",
    "\n",
    "hypos = range(1,500)\n",
    "suite = PowerTrain(hypos)\n",
    "suite.Update(60)\n",
    "suite.AddPlot('Power law')\n",
    "\n",
    "hypos = range(1,500)\n",
    "suite = Train(hypos)\n",
    "suite.Update(60)\n",
    "suite.AddPlot('Uniform')\n",
    "\n",
    "plt.legend()\n",
    "plt.show()"
   ]
  },
  {
   "cell_type": "markdown",
   "metadata": {},
   "source": [
    "## Credible intervals\n",
    "\n",
    "Once a posterior distribution is calculated, it is useful to summarise with single point estimates (mean, median, or value of max likelihood) or intervals, such as a 90% **credible interval**.\n",
    "\n",
    "One approach is to add up probabilities in the posterior and record values that correspond to 5% and 95%."
   ]
  },
  {
   "cell_type": "code",
   "execution_count": 68,
   "metadata": {},
   "outputs": [
    {
     "name": "stdout",
     "output_type": "stream",
     "text": [
      "(62, 365)\n",
      "(91, 235)\n"
     ]
    }
   ],
   "source": [
    "def Percentile(pmf, percentage):\n",
    "    p = percentage / 100.0\n",
    "    total = 0\n",
    "    for val, prob in pmf.Items():\n",
    "        total += prob\n",
    "        if total >= p:\n",
    "            return val\n",
    "        \n",
    "hypos = range(1,500)\n",
    "suite = PowerTrain(hypos)\n",
    "suite.Update(60)\n",
    "interval = (Percentile(suite, 5), Percentile(suite, 95))\n",
    "print(interval)\n",
    "        \n",
    "hypos = range(1,500)\n",
    "suite = PowerTrain(hypos)\n",
    "for data in [60, 30, 90]:\n",
    "    suite.Update(data)\n",
    "interval = (Percentile(suite, 5), Percentile(suite, 95))\n",
    "print(interval)"
   ]
  },
  {
   "cell_type": "code",
   "execution_count": 71,
   "metadata": {},
   "outputs": [
    {
     "name": "stdout",
     "output_type": "stream",
     "text": [
      "(91, 243)\n"
     ]
    }
   ],
   "source": [
    "hypos = range(1,2000)\n",
    "suite = PowerTrain(hypos)\n",
    "for data in [60, 30, 90]:\n",
    "    suite.Update(data)\n",
    "interval = (Percentile(suite, 5), Percentile(suite, 95))\n",
    "print(interval)"
   ]
  },
  {
   "cell_type": "markdown",
   "metadata": {},
   "source": [
    "## Cumulative distribution functions\n",
    "\n",
    "If we need to compute a higher number of percentiles it is useful to use a cumulative distribution function rather than a probability mass function\n",
    "\n",
    "Cdfs and pmfs contain the same information about the distribution, you can always convert from one to the other. Cdf make percentile computation more efficient.\n",
    "\n",
    "Converting from Pmf to Cdf takes time proportional to the number of values (linear time).\n",
    "\n",
    "Cdf function stores values and probabilities in sorted list, so looking up a probability takes log time, similarly to looking up a value to get corresponding probability."
   ]
  },
  {
   "cell_type": "code",
   "execution_count": 84,
   "metadata": {},
   "outputs": [
    {
     "name": "stdout",
     "output_type": "stream",
     "text": [
      "(91, 243)\n"
     ]
    },
    {
     "data": {
      "image/png": "[encoded data removed]",
      "text/plain": [
       "<Figure size 432x288 with 1 Axes>"
      ]
     },
     "metadata": {
      "needs_background": "light"
     },
     "output_type": "display_data"
    }
   ],
   "source": [
    "cdf = suite.MakeCdf()\n",
    "interval = (cdf.Percentile(5), cdf.Percentile(95))\n",
    "print(interval)\n",
    "\n",
    "values = []\n",
    "probs = []\n",
    "for value, prob in cdf.Items():\n",
    "    values.append(value)\n",
    "    probs.append(prob)\n",
    "\n",
    "plt.plot(values, probs)\n",
    "plt.show()"
   ]
  },
  {
   "cell_type": "markdown",
   "metadata": {},
   "source": [
    "## Choosing priors\n",
    "\n",
    "Two main approaches: \n",
    "* Choosing a prior that best represents background information, this is an **informative prior**\n",
    "* An **uninformative prior** is intended to be as unrestricted as possible. This allows data to 'speak for itself'. Sometimes unique priors can be found that represent minimal prior information about the value being computed.\n",
    "\n",
    "Uninformative priors seem more objective. Informative priors have other advantages, and even without them Bayesian analysis is not completely objective. Subjective modelling decsisions still need to be made.\n",
    "\n",
    "Most problems tend to have not much or a lot of data.  Prior tends to matter more when data are sparse. Using all information at your disposal can help!\n",
    "\n"
   ]
  },
  {
   "cell_type": "code",
   "execution_count": null,
   "metadata": {},
   "outputs": [],
   "source": [
    "company_size_distribution = [10] * 1000\n",
    "company_size_distribution.extend([100] * 100)\n",
    "company_size_distribution.extend([1000] * 10)\n",
    "company_size_distribution.extend([10000])\n",
    "        \n",
    "train_numbers = []\n",
    "for size in company_size_distribution:\n",
    "    train_numbers.extend(range(1,size+1))\n",
    "    \n",
    "hypos = []\n",
    "for value in train_numbers:\n",
    "    if value not in hypos:\n",
    "        hypos.append(value)\n",
    "\n",
    "probs = []\n",
    "for hypo in hypos:\n",
    "    probs.append(len([x for x in train_numbers if x == hypo]))\n",
    "    \n",
    "# norm_probs = [x/sum(probs) for x in probs]"
   ]
  },
  {
   "cell_type": "code",
   "execution_count": 148,
   "metadata": {},
   "outputs": [
    {
     "data": {
      "image/png": "[encoded data removed]",
      "text/plain": [
       "<Figure size 432x288 with 1 Axes>"
      ]
     },
     "metadata": {
      "needs_background": "light"
     },
     "output_type": "display_data"
    },
    {
     "data": {
      "image/png": "[encoded data removed]",
      "text/plain": [
       "<Figure size 432x288 with 1 Axes>"
      ]
     },
     "metadata": {
      "needs_background": "light"
     },
     "output_type": "display_data"
    },
    {
     "data": {
      "image/png": "[encoded data removed]",
      "text/plain": [
       "<Figure size 432x288 with 1 Axes>"
      ]
     },
     "metadata": {
      "needs_background": "light"
     },
     "output_type": "display_data"
    },
    {
     "data": {
      "image/png": "[encoded data removed]",
      "text/plain": [
       "<Figure size 432x288 with 1 Axes>"
      ]
     },
     "metadata": {
      "needs_background": "light"
     },
     "output_type": "display_data"
    }
   ],
   "source": [
    "class Train(Suite):\n",
    "    \n",
    "    def Mean(self):\n",
    "        total = 0\n",
    "        for hypo, prob in self.Items():\n",
    "            total += hypo * prob\n",
    "        return print(total)\n",
    "    \n",
    "    \n",
    "    def AddPlot(self, label):\n",
    "        values = []\n",
    "        probs = []\n",
    "        for val, prob in self.Items():\n",
    "            values.append(val)\n",
    "            probs.append(prob)\n",
    "\n",
    "#         print(values[probs.index(max(probs))])\n",
    "        plt.plot(values, probs, label=label)\n",
    "\n",
    "\n",
    "class MultiTrain(Train):\n",
    "#     def __init__(self, hypos, probs, company_size_distribution):\n",
    "#         self.company_size_distribution = company_size_distribution\n",
    "# #         super(Suite, self).__init__(hypos)\n",
    "#         Pmf.__init__(self)\n",
    "#         for hypo, prob in zip(hypos, probs):\n",
    "#             self.Set(hypo, prob)\n",
    "#         self.Normalize()\n",
    "        \n",
    "    def __init__(self, hypos, probs, company_size_distribution):\n",
    "#         super(Suite, self).__init__(hypos)\n",
    "        alpha=1.0\n",
    "        self.company_size_distribution = company_size_distribution\n",
    "        Pmf.__init__(self)\n",
    "        for hypo in hypos:\n",
    "            self.Set(hypo, hypo**(-alpha))\n",
    "        self.Normalize()\n",
    "     \n",
    "        \n",
    "    def Likelihood(self, data, hypo):\n",
    "        if hypo < data:\n",
    "            return 0\n",
    "        else:\n",
    "            filtered_companies_hypo = [x for x in self.company_size_distribution if x <= hypo]\n",
    "            filtered_companies_data = [x for x in self.company_size_distribution if x < data]\n",
    "#             number_of_companies = len(filtered_companies)\n",
    "            total_number_trains = 0\n",
    "            for company_size in filtered_companies_hypo:\n",
    "                total_number_trains += company_size\n",
    "                \n",
    "            number_of_companies_with_data = len(filtered_companies_hypo) - len(filtered_companies_data)\n",
    "            return number_of_companies_with_data/total_number_trains\n",
    "        \n",
    "## Likelihood function for adapted locomotive problem in which there are multiple companies operating.\n",
    "\n",
    "## https://stats.stackexchange.com/questions/70096/locomotive-problem-with-various-size-companies\n",
    "\n",
    "## https://en.wikipedia.org/wiki/Zipf%27s_law\n",
    "\n",
    "\n",
    "suite = MultiTrain(hypos, probs, company_size_distribution)\n",
    "suite.AddPlot('Multi train')\n",
    "plt.show()\n",
    "for data in [300, 280, 456, 20, 100]:\n",
    "    suite.Update(data)\n",
    "suite.AddPlot('Multi train a')\n",
    "plt.show()\n",
    "\n",
    "suite = MultiTrain(hypos, probs, company_size_distribution)\n",
    "suite.AddPlot('Multi train')\n",
    "plt.show()\n",
    "for data in [300, 280, 456, 20, 100]:\n",
    "    suite.Update(data)\n",
    "suite.AddPlot('Multi train a')\n",
    "\n",
    "for data in [10, 12, 23, 25, 11]:\n",
    "    suite.Update(data)\n",
    "suite.AddPlot('Multi train b')\n",
    "plt.legend()\n",
    "plt.show()\n",
    "   "
   ]
  },
  {
   "cell_type": "code",
   "execution_count": 140,
   "metadata": {},
   "outputs": [
    {
     "data": {
      "text/plain": [
       "1000"
      ]
     },
     "execution_count": 140,
     "metadata": {},
     "output_type": "execute_result"
    }
   ],
   "source": [
    "len([x for x in company_size_distribution if x <= 10])"
   ]
  },
  {
   "cell_type": "code",
   "execution_count": null,
   "metadata": {},
   "outputs": [],
   "source": []
  }
 ],
 "metadata": {
  "kernelspec": {
   "display_name": "Python 3",
   "language": "python",
   "name": "python3"
  },
  "language_info": {
   "codemirror_mode": {
    "name": "ipython",
    "version": 3
   },
   "file_extension": ".py",
   "mimetype": "text/x-python",
   "name": "python",
   "nbconvert_exporter": "python",
   "pygments_lexer": "ipython3",
   "version": "3.7.2"
  }
 },
 "nbformat": 4,
 "nbformat_minor": 2
}
